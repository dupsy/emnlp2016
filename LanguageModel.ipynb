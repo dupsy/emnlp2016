{
 "cells": [
  {
   "cell_type": "code",
   "execution_count": 2,
   "metadata": {
    "collapsed": false
   },
   "outputs": [],
   "source": [
    "from xlrd import * \n",
    "import re\n",
    "def Load_Dictionary():\n",
    "    #open_workbook('dictionary.xlsx')\n",
    "    X = []\n",
    "    wb = open_workbook('dictionary.xlsx')\n",
    "    start = False\n",
    "    for s in wb.sheets():\n",
    "        for row in range(s.nrows):\n",
    "                temp = []\n",
    "                values = []\n",
    "\n",
    "                for col in range(s.ncols):\n",
    "                    values.append(s.cell(row,col).value)\n",
    "                if type(values[0])==float:\n",
    "                    values[0] = int(values[0])\n",
    "                if type(values[1])==float:\n",
    "                    values[1] = int(values[1])\n",
    "                temp.append(values[0])\n",
    "                temp.append(values[1])\n",
    "                if temp[0]=='':\n",
    "                    temp[0]=X[row-1][0]\n",
    "                if temp[1]=='':\n",
    "                    temp[1]=X[row-1][1]\n",
    "                X.append(temp)\n",
    "    X = X[1:]\n",
    "    for x in range(len(X)):\n",
    "        for y in range(2):\n",
    "              X[x][y] = str(X[x][y])\n",
    "    temp = []\n",
    "    k = 0\n",
    "    X_prime = X\n",
    "    for i in range(len(X)):\n",
    "        if(i>0):\n",
    "            if(X[i][0]==X[i-1][0]):\n",
    "                temp[k-1].append(X[i][1])\n",
    "            else:\n",
    "                k+=1\n",
    "                temp.append(X[i])\n",
    "    Dictionary = temp\n",
    "    return Dictionary"
   ]
  },
  {
   "cell_type": "code",
   "execution_count": 3,
   "metadata": {
    "collapsed": true
   },
   "outputs": [],
   "source": [
    "def LCS(X, Y):\n",
    "    m = len(X)\n",
    "    n = len(Y)\n",
    "    # An (m+1) times (n+1) matrix\n",
    "    C = [[0] * (n + 1) for _ in range(m + 1)]\n",
    "    for i in range(1, m+1):\n",
    "        for j in range(1, n+1):\n",
    "            if X[i-1] == Y[j-1]: \n",
    "                C[i][j] = C[i-1][j-1] + 1\n",
    "            else:\n",
    "                C[i][j] = max(C[i][j-1], C[i-1][j])\n",
    "    return C"
   ]
  },
  {
   "cell_type": "code",
   "execution_count": 4,
   "metadata": {
    "collapsed": true
   },
   "outputs": [],
   "source": [
    "def Load_Twit_Data():\n",
    "    Twits = []\n",
    "    #with open(\"/home/melvin/LogLinear/Dataset_2016 for PhD/SMS_tweet/Mobile_tweet1.txt\") as f:\n",
    "    with open(\"tweetdata.txt\") as f:\n",
    "        for line in f:\n",
    "            Twits.append(line)\n",
    "    for i in range(len(Twits)):\n",
    "        Twits[i] = Twits[i].replace('\\r\\n','')\n",
    "    return Twits"
   ]
  },
  {
   "cell_type": "code",
   "execution_count": 5,
   "metadata": {
    "collapsed": false
   },
   "outputs": [],
   "source": [
    "import numpy as np\n",
    "def Preprocess_Twits_and_Dictionary(X):\n",
    "    #convert all string to lower case.\n",
    "    for i in range(len(X)):\n",
    "        X[i] = X[i].lower()\n",
    "    for i in range(len(Twits)):\n",
    "        Twits[i] = Twits[i].lower()\n",
    "    for i in range(len(Y)):\n",
    "        for j in range(len(Y[i])):\n",
    "            Y[i][j] = Y[i][j].lower()\n",
    "    #Removal of panctuations.\n",
    "    for i in range(len(Twits)):\n",
    "        Twits[i] = Twits[i].replace('</s>','')\n",
    "        Twits[i] = Twits[i].replace('<s>','')\n",
    "    import string\n",
    "    for i in range(len(Twits)):\n",
    "        for c in string.punctuation:\n",
    "            Twits[i] = Twits[i].replace(c,\" \")\n",
    "    for i in range(len(Twits)):\n",
    "        Twits[i] = '<s> '+Twits[i]+' </s>'\n",
    "    for m in range(10): \n",
    "        for i in range(len(Twits)):\n",
    "            Twits[i] = Twits[i].replace('  ',' ')    \n",
    "    for i in range(len(Y)):\n",
    "        for j in range(len(Y[i])):\n",
    "            for c in string.punctuation:\n",
    "                Y[i][j] = Y[i][j].replace(c,\" \")\n",
    "    #Removal of multiple spaces.\n",
    "    for m in range(10): \n",
    "        for i in range(len(Y)):\n",
    "            for j in range(len(Y[i])):\n",
    "                for c in string.punctuation:\n",
    "                    Y[i][j] = Y[i][j].replace('  ',' ')            \n",
    "    Preprocessed_Twits = Twits\n",
    "    return Preprocessed_Twits, Dictionary"
   ]
  },
  {
   "cell_type": "code",
   "execution_count": 6,
   "metadata": {
    "collapsed": true
   },
   "outputs": [],
   "source": [
    "def levenshtein(s1, s2):\n",
    "    if len(s1) < len(s2):\n",
    "        return levenshtein(s2, s1)\n",
    "\n",
    "    # len(s1) >= len(s2)\n",
    "    if len(s2) == 0:\n",
    "        return len(s1)\n",
    "\n",
    "    previous_row = range(len(s2) + 1)\n",
    "    for i, c1 in enumerate(s1):\n",
    "        current_row = [i + 1]\n",
    "        for j, c2 in enumerate(s2):\n",
    "            insertions = previous_row[j + 1] + 1 # j+1 instead of j since previous_row and current_row are one character longer\n",
    "            deletions = current_row[j] + 1       # than s2\n",
    "            substitutions = previous_row[j] + (c1 != c2)\n",
    "            current_row.append(min(insertions, deletions, substitutions))\n",
    "        previous_row = current_row\n",
    "    \n",
    "    return previous_row[-1]"
   ]
  },
  {
   "cell_type": "code",
   "execution_count": 7,
   "metadata": {
    "collapsed": true
   },
   "outputs": [],
   "source": [
    "def levenshtein_ratio(s1, s2):\n",
    "    Ldist = levenshtein(s1, s2)\n",
    "    return float((len( s1 )+len( s2 ))-Ldist) / float(len( s1 )+len( s2 ))"
   ]
  },
  {
   "cell_type": "code",
   "execution_count": 8,
   "metadata": {
    "collapsed": true
   },
   "outputs": [],
   "source": [
    "def count_bi_gram(X,token):\n",
    "    counts = sum([row.count(token) for row in X])\n",
    "    return counts\n",
    "def count_unigram(X,token):\n",
    "    counts = sum([row.count(token) for row in X])\n",
    "    return counts"
   ]
  },
  {
   "cell_type": "code",
   "execution_count": 9,
   "metadata": {
    "collapsed": false
   },
   "outputs": [],
   "source": [
    "def Create_target_keys(Y):\n",
    "    k = 0\n",
    "    Key_Dictionary = []\n",
    "    for i in range(len(Y)):\n",
    "        for j in range(len(Y[i])):\n",
    "            temp = [k,Y[i][j]]\n",
    "            Key_Dictionary.append(temp)\n",
    "            k+=1\n",
    "    Key_Dictionary = {Key_Dictionary[i][1]: Key_Dictionary[i][0] for i in range(0, len(Key_Dictionary))}\n",
    "    return Key_Dictionary"
   ]
  },
  {
   "cell_type": "code",
   "execution_count": 10,
   "metadata": {
    "collapsed": true
   },
   "outputs": [],
   "source": [
    "def Uni_grams(X):\n",
    "    Uni = []\n",
    "    for i in X:\n",
    "        temp = i.split(\" \")\n",
    "        Uni.append(temp)\n",
    "    return Uni"
   ]
  },
  {
   "cell_type": "code",
   "execution_count": 11,
   "metadata": {
    "collapsed": true
   },
   "outputs": [],
   "source": [
    "def Bi_grams(X):\n",
    "    bi_grams = []\n",
    "    Uni = Uni_grams(X)\n",
    "    for i in range(len(Uni)):\n",
    "        temp = []\n",
    "        for j in range(len(Uni[i])-2):\n",
    "            bi = Uni[i][j]+\" \"+Uni[i][j+1]\n",
    "            temp.append(bi)\n",
    "        bi_grams.append(temp)\n",
    "    return bi_grams"
   ]
  },
  {
   "cell_type": "code",
   "execution_count": 12,
   "metadata": {
    "collapsed": true
   },
   "outputs": [],
   "source": [
    "def Conditional_Probability1(c1,c2,Twits):\n",
    "    Uni = Uni_grams(Twits)\n",
    "    Bi = Bi_grams(Twits)\n",
    "    num = count_bi_gram(Bi,c1+\" \"+c2)\n",
    "    den = count_unigram(Uni,c1)\n",
    "    probability = float(num)/float(den)\n",
    "    return probability"
   ]
  },
  {
   "cell_type": "code",
   "execution_count": 13,
   "metadata": {
    "collapsed": true
   },
   "outputs": [],
   "source": [
    "def backTrack(C, X, Y, i, j):\n",
    "    if i == 0 or j == 0:\n",
    "        return \"\"\n",
    "    elif X[i-1] == Y[j-1]:\n",
    "        return backTrack(C, X, Y, i-1, j-1) + X[i-1]\n",
    "    else:\n",
    "        if C[i][j-1] > C[i-1][j]:\n",
    "            return backTrack(C, X, Y, i, j-1)\n",
    "        else:\n",
    "            return backTrack(C, X, Y, i-1, j)"
   ]
  },
  {
   "cell_type": "code",
   "execution_count": 14,
   "metadata": {
    "collapsed": true
   },
   "outputs": [],
   "source": [
    "def backTrackAll(C, X, Y, i, j):\n",
    "    if i == 0 or j == 0:\n",
    "        return set([\"\"])\n",
    "    elif X[i-1] == Y[j-1]:\n",
    "        return set([Z + X[i-1] for Z in backTrackAll(C, X, Y, i-1, j-1)])\n",
    "    else:\n",
    "        R = set()\n",
    "        if C[i][j-1] >= C[i-1][j]:\n",
    "            R.update(backTrackAll(C, X, Y, i, j-1))\n",
    "        if C[i-1][j] >= C[i][j-1]:\n",
    "            R.update(backTrackAll(C, X, Y, i-1, j))\n",
    "        return R"
   ]
  },
  {
   "cell_type": "code",
   "execution_count": 15,
   "metadata": {
    "collapsed": false
   },
   "outputs": [
    {
     "name": "stdout",
     "output_type": "stream",
     "text": [
      "Some LCS: 'AAC'\n",
      "All LCSs: set(['ACC', 'AAC'])\n"
     ]
    }
   ],
   "source": [
    "x = \"AATCC\"\n",
    "y = \"ACACG\"\n",
    "m = len(x)\n",
    "n = len(y)\n",
    "C = LCS(x, y)\n",
    "print \"Some LCS: '%s'\" % backTrack(C, x, y, m, n)\n",
    "print \"All LCSs: %s\" % backTrackAll(C, x, y, m, n)"
   ]
  },
  {
   "cell_type": "code",
   "execution_count": 16,
   "metadata": {
    "collapsed": true
   },
   "outputs": [],
   "source": [
    "def LCS_Ratio(X, Y):\n",
    "    m = len(X)\n",
    "    n = len(Y)\n",
    "    C = LCS(X, Y)\n",
    "    ratio = float(len(backTrack(C, X, Y, m, n)))/float(m)\n",
    "    return ratio"
   ]
  },
  {
   "cell_type": "code",
   "execution_count": 17,
   "metadata": {
    "collapsed": true
   },
   "outputs": [],
   "source": [
    "def Similarity_measure(C2,Target):\n",
    "    similarity = []\n",
    "    #print C2, Target\n",
    "    for i in Target:\n",
    "        LCSRatio = LCS_Ratio(i, C2)\n",
    "        similarity.append([LCSRatio,i])\n",
    "    return similarity\n",
    "            "
   ]
  },
  {
   "cell_type": "code",
   "execution_count": 18,
   "metadata": {
    "collapsed": true
   },
   "outputs": [],
   "source": [
    "def Similarity_measure_Testing(C2,Target):\n",
    "    similarity = []\n",
    "    LCSRatio = LCS_Ratio(Target, C2)    \n",
    "    return LCSRatio"
   ]
  },
  {
   "cell_type": "code",
   "execution_count": 19,
   "metadata": {
    "collapsed": false
   },
   "outputs": [],
   "source": [
    "#def Maximum_Probability(C2,similarity,probability,temp,Key_Dictionary):\n",
    "def Maximum_Probability(C2,similarity,probability,Key_Dictionary):\n",
    "    maximum_probability = 0\n",
    "    target = \"\"\n",
    "    Vs = C2\n",
    "    for j in range(len(similarity)):\n",
    "        #answer = (similarity[j][0] + probability + temp[j])/float(3)\n",
    "        answer = (similarity[j][0] + probability)/float(2)\n",
    "        if answer>maximum_probability:\n",
    "            maximum_probability = answer\n",
    "            target = similarity[j][1]\n",
    "            #Vs_features = [similarity[j][0],probability,temp[j]]\n",
    "            Vs_features = [similarity[j][0],probability]\n",
    "            Target_Key = Key_Dictionary[target]\n",
    "            Vt = target\n",
    "    return Vs,Vt,Vs_features,Target_Key\n",
    "    "
   ]
  },
  {
   "cell_type": "code",
   "execution_count": 20,
   "metadata": {
    "collapsed": false
   },
   "outputs": [],
   "source": [
    "def feature_vector_training(Twits,bi_grams,Key_Dictionary,Dictionary,X,Y):\n",
    "    Vs = []\n",
    "    Vt = \"\"\n",
    "    temp = []\n",
    "    Feature_vector = []\n",
    "    New_Twits = []\n",
    "    Y_Target = []\n",
    "    Reconstructed_twit = []\n",
    "    Training_abrivitions = []\n",
    "    Training_Target = []\n",
    "    k = 0\n",
    "    for bigrams in bi_grams:\n",
    "        Reconstructed_twit = ['<s>']\n",
    "        temporary_features = []\n",
    "        for i in range(len(bigrams)):\n",
    "            C = bigrams[i].split(\" \")\n",
    "            C1 = C[0]\n",
    "            C2 = C[1]\n",
    "            if C2 in X:\n",
    "                temp = []\n",
    "                position = X.index(C2)\n",
    "                similarity = Similarity_measure(C2, Y[position])\n",
    "                probability = Conditional_Probability1(C1,C2,Twits)\n",
    "                Vs,Vt,Vs_features,Target_Key = Maximum_Probability(C2,similarity,probability,Key_Dictionary)\n",
    "                temp = []\n",
    "                Feature_vector.append(Vs_features)\n",
    "                Y_Target.append(Target_Key)\n",
    "                Reconstructed_twit.append(Vt)\n",
    "                Training_abrivitions.append(C2)\n",
    "                Training_Target.append(Vt)\n",
    "            else:\n",
    "                C = bigrams[i].split(\" \")\n",
    "                Reconstructed_twit.append(C[1])\n",
    "        Reconstructed_twit.append('</s>')\n",
    "        New_Twits.append(\" \".join(Reconstructed_twit))\n",
    "        #print \"####################################################################################\"\n",
    "        #print Twits[k]\n",
    "        #print \" \".join(Reconstructed_twit)\n",
    "        k+=1\n",
    "    return Feature_vector,Y_Target, Training_abrivitions, Training_Target\n"
   ]
  },
  {
   "cell_type": "code",
   "execution_count": 21,
   "metadata": {
    "collapsed": true
   },
   "outputs": [],
   "source": [
    "\n",
    "def flatten(x):\n",
    "    \"\"\"flatten(sequence) -> list\n",
    "\n",
    "    Returns a single, flat list which contains all elements retrieved\n",
    "    from the sequence and all recursively contained sub-sequences\n",
    "    (iterables).\n",
    "\n",
    "    Examples:\n",
    "    >>> [1, 2, [3,4], (5,6)]\n",
    "    [1, 2, [3, 4], (5, 6)]\n",
    "    >>> flatten([[[1,2,3], (42,None)], [4,5], [6], 7, MyVector(8,9,10)])\n",
    "    [1, 2, 3, 42, None, 4, 5, 6, 7, 8, 9, 10]\"\"\"\n",
    "\n",
    "    result = []\n",
    "    for el in x:\n",
    "        #if isinstance(el, (list, tuple)):\n",
    "        if hasattr(el, \"__iter__\") and not isinstance(el, basestring):\n",
    "            result.extend(flatten(el))\n",
    "        else:\n",
    "            result.append(el)\n",
    "    return result"
   ]
  },
  {
   "cell_type": "code",
   "execution_count": 22,
   "metadata": {
    "collapsed": true
   },
   "outputs": [],
   "source": [
    "def intersect(a, b):\n",
    "     return list(set(a) & set(b))"
   ]
  },
  {
   "cell_type": "code",
   "execution_count": 23,
   "metadata": {
    "collapsed": true
   },
   "outputs": [],
   "source": [
    "def Unigrams(Twits):\n",
    "    Uni_grams = []\n",
    "    for i in Twits:\n",
    "        Uni_grams.append(i.split(\" \")) \n",
    "    return Uni_grams"
   ]
  },
  {
   "cell_type": "code",
   "execution_count": 24,
   "metadata": {
    "collapsed": true
   },
   "outputs": [],
   "source": [
    "def count_unigram(X,token):\n",
    "    counts = sum([row.count(token) for row in X])\n",
    "    return counts"
   ]
  },
  {
   "cell_type": "code",
   "execution_count": 25,
   "metadata": {
    "collapsed": false
   },
   "outputs": [],
   "source": [
    "Dictionary = Load_Dictionary()\n",
    "X = []\n",
    "Y = []\n",
    "for data in Dictionary:\n",
    "    Y.append(data[1:])\n",
    "    X.append(data[0])\n",
    "Twits = Load_Twit_Data()\n",
    "Preprocessed_Twits, Dictionary = Preprocess_Twits_and_Dictionary(X)\n",
    "Key_Dictionary = Create_target_keys(Y)\n",
    "bi_grams = Bi_grams(Twits)\n",
    "Feature_vector,Y_Target,Training_abrivitions,Training_Target = feature_vector_training(Twits,bi_grams,Key_Dictionary,Dictionary,X,Y)\n",
    "CTraining_abrivitions = Training_abrivitions\n",
    "CY_Target = Y_Target\n",
    "CTraining_Target = Training_Target\n",
    "CFeature_vector = Feature_vector\n",
    "Uni_grams = Unigrams(Twits)"
   ]
  },
  {
   "cell_type": "code",
   "execution_count": 26,
   "metadata": {
    "collapsed": false
   },
   "outputs": [],
   "source": [
    "temp1 = []\n",
    "temp2 = []\n",
    "temp3 = []\n",
    "temp4 = []\n",
    "for i in range(len(CTraining_abrivitions)):\n",
    "    frequency = count_unigram(Uni_grams,CTraining_abrivitions[i])\n",
    "    if frequency > 20:\n",
    "        temp1.append(CTraining_abrivitions[i])\n",
    "        temp2.append(CY_Target[i])\n",
    "        temp3.append(CFeature_vector[i])\n",
    "        temp4.append(CTraining_Target[i])\n",
    "CTraining_abrivitions = temp1\n",
    "CY_Target = temp2\n",
    "CFeature_vector = temp3\n",
    "CTraining_Target = temp4"
   ]
  },
  {
   "cell_type": "code",
   "execution_count": 27,
   "metadata": {
    "collapsed": false
   },
   "outputs": [],
   "source": [
    "temp = []\n",
    "temp1 = []\n",
    "for i in range(len(Training_abrivitions)):\n",
    "    if i==0:\n",
    "        temp.append(Training_abrivitions[i])\n",
    "        temp1.append(Feature_vector[i])\n",
    "    else:\n",
    "        if Training_abrivitions[i] not in temp:\n",
    "            temp.append(Training_abrivitions[i])\n",
    "            temp1.append(Feature_vector[i])\n",
    "Unique_Training_abrivitions = temp\n",
    "Unique_Feature_vector = temp1"
   ]
  },
  {
   "cell_type": "code",
   "execution_count": 28,
   "metadata": {
    "collapsed": false
   },
   "outputs": [
    {
     "name": "stdout",
     "output_type": "stream",
     "text": [
      "[19, 1, 40, 1, 43, 394, 71, 207, 9, 23, 39, 10, 31, 1, 1, 1, 1, 32, 6, 33, 56, 1, 19, 1, 1, 12, 4, 4, 2, 2, 12, 18, 6, 10, 9, 1, 1, 113, 20, 13, 36, 51, 2, 30, 87, 23, 5, 12, 11, 11, 2, 1, 8, 18, 13, 37, 1, 7, 7, 2, 10, 8, 1, 4, 5, 3, 3, 1, 3, 1, 2, 1, 1, 6, 10, 1, 2, 1, 21, 94, 2, 5, 4, 1, 19, 1, 2, 25, 1, 14, 1, 5, 6, 1, 6, 2, 1, 2, 1, 1, 6, 5, 2, 3, 2, 5, 1, 7, 10, 5, 4, 2, 37, 2, 1, 3, 18, 13, 1, 2, 2, 5, 15, 2, 1, 1, 5, 2, 1, 2, 1, 1, 1, 1, 35, 1, 1, 2, 1, 1, 1, 1, 26, 1, 1]\n"
     ]
    }
   ],
   "source": [
    "Unique_Abriviation_frequencies = []\n",
    "for i in Unique_Training_abrivitions:\n",
    "    Unique_Abriviation_frequencies.append(count_unigram(Uni_grams,i))\n",
    "print Unique_Abriviation_frequencies"
   ]
  },
  {
   "cell_type": "code",
   "execution_count": 29,
   "metadata": {
    "collapsed": false
   },
   "outputs": [
    {
     "name": "stdout",
     "output_type": "stream",
     "text": [
      "[40, 43, 394, 71, 207, 23, 39, 31, 32, 33, 56, 113, 20, 36, 51, 30, 87, 23, 37, 21, 94, 25, 37, 35, 26]\n"
     ]
    }
   ],
   "source": [
    "temp1 = []\n",
    "temp2 = []\n",
    "for i in range(len(Unique_Training_abrivitions)):\n",
    "    if Unique_Abriviation_frequencies[i]>=20:\n",
    "        temp1.append(Unique_Training_abrivitions[i])\n",
    "        temp2.append(Unique_Abriviation_frequencies[i])\n",
    "Unique_Abriviation_frequencies = temp2\n",
    "Unique_Training_abrivitions = temp1\n",
    "print Unique_Abriviation_frequencies"
   ]
  },
  {
   "cell_type": "code",
   "execution_count": 30,
   "metadata": {
    "collapsed": false
   },
   "outputs": [],
   "source": [
    "Abriviation_frequencies = []\n",
    "for i in Training_abrivitions:\n",
    "    Abriviation_frequencies.append(count_unigram(Uni_grams,i))\n"
   ]
  },
  {
   "cell_type": "code",
   "execution_count": 31,
   "metadata": {
    "collapsed": false
   },
   "outputs": [],
   "source": [
    "temp1 = []\n",
    "temp2 = []\n",
    "temp3 = []\n",
    "temp4 = []\n",
    "New_labes = []\n",
    "for i in range(len(Abriviation_frequencies)):\n",
    "    if Abriviation_frequencies[i]>20:\n",
    "        temp1.append(Feature_vector[i])\n",
    "        temp2.append(Abriviation_frequencies[i])\n",
    "        New_labes.append(Y_Target[i])\n",
    "        temp3.append(Training_abrivitions[i])\n",
    "        temp4.append(Training_Target[i])\n",
    "Y_Target = New_labes\n",
    "Feature_vector = temp1\n",
    "Abriviation_frequencies = temp2\n",
    "Training_abrivitions = temp3\n",
    "Training_Target = temp4"
   ]
  },
  {
   "cell_type": "code",
   "execution_count": 32,
   "metadata": {
    "collapsed": false
   },
   "outputs": [
    {
     "name": "stderr",
     "output_type": "stream",
     "text": [
      "/home/melvin/anaconda/lib/python2.7/site-packages/pandas/computation/__init__.py:19: UserWarning: The installed version of numexpr 2.4.4 is not supported in pandas and will be not be used\n",
      "\n",
      "  UserWarning)\n"
     ]
    },
    {
     "data": {
      "image/png": "[encoded data removed]",
      "text/plain": [
       "<matplotlib.figure.Figure at 0x7ff48608dbd0>"
      ]
     },
     "metadata": {},
     "output_type": "display_data"
    }
   ],
   "source": [
    "import pandas as pd\n",
    "import matplotlib.pyplot as plt\n",
    "%matplotlib inline\n",
    "\n",
    "s = pd.Series(\n",
    "    Unique_Abriviation_frequencies,\n",
    "    index = Unique_Training_abrivitions\n",
    ")\n",
    "\n",
    "#Set descriptions:\n",
    "plt.title(\"Distribution of Noisy Features\")\n",
    "plt.ylabel('Distribution')\n",
    "plt.xlabel('Noisy Features')\n",
    "\n",
    "#Set tick colors:\n",
    "ax = plt.gca()\n",
    "ax.tick_params(axis='x', colors='blue')\n",
    "ax.tick_params(axis='y', colors='red')\n",
    "\n",
    "#Plot the data:\n",
    "my_colors = 'rgbkymc'  #red, green, blue, black, etc.\n",
    "\n",
    "s.plot( \n",
    "    kind='bar', \n",
    "    color=my_colors,\n",
    ")\n",
    "\n",
    "plt.show()"
   ]
  },
  {
   "cell_type": "code",
   "execution_count": 33,
   "metadata": {
    "collapsed": false
   },
   "outputs": [
    {
     "name": "stdout",
     "output_type": "stream",
     "text": [
      "2095\n",
      "[414, 855, 1238, 1453, 1604]\n",
      "['20.0%', '40.0%', '60.0%', '80.0%', '100.0%']\n"
     ]
    }
   ],
   "source": [
    "import itertools\n",
    "\n",
    "\n",
    "prop = 0.2\n",
    "number_words = 22210\n",
    "temp = Uni_grams\n",
    "merged = list(itertools.chain(*temp))\n",
    "Sample_Data_freq = []\n",
    "Proportions = []\n",
    "PDF = []\n",
    "for j in range(5):\n",
    "    actual = int(prop*number_words)\n",
    "    prop = prop + 0.2\n",
    "    temp = merged[0:actual]\n",
    "    Proportions.append(str((float(len(temp))/22210)*100)+\"%\")\n",
    "    for i in Unique_Training_abrivitions:\n",
    "        Sum = 0\n",
    "        for i in Unique_Training_abrivitions:\n",
    "            Sum = Sum + temp.count(i)\n",
    "    Sample_Data_freq.append(Sum)\n",
    "print len(Twits)\n",
    "print Sample_Data_freq\n",
    "print Proportions"
   ]
  },
  {
   "cell_type": "code",
   "execution_count": 34,
   "metadata": {
    "collapsed": false
   },
   "outputs": [
    {
     "name": "stderr",
     "output_type": "stream",
     "text": [
      ":0: FutureWarning: IPython widgets are experimental and may change in the future.\n"
     ]
    },
    {
     "data": {
      "image/png": "[encoded data removed]",
      "text/plain": [
       "<matplotlib.figure.Figure at 0x7ff47dabde90>"
      ]
     },
     "metadata": {},
     "output_type": "display_data"
    }
   ],
   "source": [
    "import matplotlib.pyplot as plt\n",
    "import seaborn as sns\n",
    "import pandas as pd\n",
    "from numpy.random import randn\n",
    "%matplotlib inline\n",
    "data = pd.DataFrame(dict(f1=np.array(CFeature_vector)[:,0], f2=np.array(CFeature_vector)[:,1], abriviations=CTraining_abrivitions))\n",
    "sns.lmplot(\"f1\", \"f2\", hue=\"abriviations\", data=data, fit_reg=False)\n",
    "\n",
    "plt.show()"
   ]
  },
  {
   "cell_type": "code",
   "execution_count": 35,
   "metadata": {
    "collapsed": false
   },
   "outputs": [
    {
     "data": {
      "image/png": "[encoded data removed]",
      "text/plain": [
       "<matplotlib.figure.Figure at 0x7ff4860b09d0>"
      ]
     },
     "metadata": {},
     "output_type": "display_data"
    }
   ],
   "source": [
    "import matplotlib.pyplot as plt\n",
    "%matplotlib inline\n",
    "y=np.array(CFeature_vector)[:,1]\n",
    "z=np.array(CFeature_vector)[:,0]\n",
    "n=CTraining_abrivitions\n",
    "fig, ax = plt.subplots()\n",
    "ax.scatter(z, y)\n",
    "for i, txt in enumerate(n):\n",
    "       ax.annotate(txt, (z[i],y[i]))\n",
    "        \n",
    "plt.show()"
   ]
  },
  {
   "cell_type": "code",
   "execution_count": 36,
   "metadata": {
    "collapsed": false
   },
   "outputs": [
    {
     "data": {
      "image/png": "[encoded data removed]",
      "text/plain": [
       "<matplotlib.figure.Figure at 0x7ff47d3fe1d0>"
      ]
     },
     "metadata": {},
     "output_type": "display_data"
    }
   ],
   "source": [
    "temp1 = []\n",
    "temp2 = []\n",
    "for i in range(len(CTraining_abrivitions)):\n",
    "    if temp2.count(CTraining_abrivitions[i])<=100:\n",
    "        temp1.append(CFeature_vector[i])\n",
    "        temp2.append(CTraining_abrivitions[i])\n",
    "Specified_Feature_vector = temp1\n",
    "Specified_Training_abrivitions = temp2\n",
    "\n",
    "##################################################################\n",
    "import matplotlib.pyplot as plt\n",
    "%matplotlib inline\n",
    "y=np.array(Specified_Feature_vector)[:,1]\n",
    "z=np.array(Specified_Feature_vector)[:,0]\n",
    "n=Specified_Training_abrivitions\n",
    "fig, ax = plt.subplots()\n",
    "ax.scatter(z, y)\n",
    "for i, txt in enumerate(n):\n",
    "       ax.annotate(txt, (z[i],y[i]))"
   ]
  },
  {
   "cell_type": "code",
   "execution_count": 37,
   "metadata": {
    "collapsed": false
   },
   "outputs": [
    {
     "data": {
      "image/png": "[encoded data removed]",
      "text/plain": [
       "<matplotlib.figure.Figure at 0x7ff47d707410>"
      ]
     },
     "metadata": {},
     "output_type": "display_data"
    }
   ],
   "source": [
    "temp1 = []\n",
    "temp2 = []\n",
    "for i in range(len(CTraining_abrivitions)):\n",
    "    if temp2.count(CTraining_abrivitions[i])<1:\n",
    "        temp1.append(CFeature_vector[i])\n",
    "        temp2.append(CTraining_abrivitions[i])\n",
    "Specified_Feature_vector = temp1\n",
    "Specified_Training_abrivitions = temp2\n",
    "\n",
    "##################################################################\n",
    "import matplotlib.pyplot as plt\n",
    "%matplotlib inline\n",
    "y=np.array(Specified_Feature_vector)[:,1]\n",
    "z=np.array(Specified_Feature_vector)[:,0]\n",
    "n=Specified_Training_abrivitions\n",
    "fig, ax = plt.subplots()\n",
    "ax.scatter(z, y)\n",
    "for i, txt in enumerate(n):\n",
    "       ax.annotate(txt, (z[i],y[i]))"
   ]
  },
  {
   "cell_type": "code",
   "execution_count": 38,
   "metadata": {
    "collapsed": false
   },
   "outputs": [
    {
     "name": "stdout",
     "output_type": "stream",
     "text": [
      "(1584, 2)\n",
      "1584\n"
     ]
    }
   ],
   "source": [
    "print np.array(Feature_vector).shape\n",
    "print len(Training_abrivitions)"
   ]
  },
  {
   "cell_type": "code",
   "execution_count": 39,
   "metadata": {
    "collapsed": true
   },
   "outputs": [],
   "source": [
    "def stochastic_gradient_descent(x, y, iters):\n",
    "    costs = []\n",
    "    m = y.size # number of data points\n",
    "    theta = np.random.rand(2) # random start\n",
    "    alpha = float(0.01)\n",
    "    history = [theta] # to store all thetas\n",
    "    preds = []\n",
    "    for i in range(iters):\n",
    "        if i>0:\n",
    "            alphap = alpha\n",
    "            alpha = float(alphap)/float(1+(float(i)/float(len(x))))\n",
    "           \n",
    "        pred = np.dot(x, theta)\n",
    "        error = pred - y \n",
    "        cost = np.sum(error ** 2) / (2 * m)\n",
    "        costs.append(cost)\n",
    "        \n",
    "        if i % 25 == 0: preds.append(pred)\n",
    "\n",
    "        gradient = x.T.dot(error)/m \n",
    "        theta = theta - alpha * gradient  # update\n",
    "        #history.append(theta)\n",
    "    print theta\n",
    "    print \"cost = \"+str(cost)\n",
    "    return history, costs, preds"
   ]
  },
  {
   "cell_type": "code",
   "execution_count": 40,
   "metadata": {
    "collapsed": false
   },
   "outputs": [
    {
     "name": "stdout",
     "output_type": "stream",
     "text": [
      "[ 8.68164746  5.24791911]\n",
      "cost = 32453.2388799\n"
     ]
    }
   ],
   "source": [
    "iters = 10 # set number of iterations\n",
    "history, cost, preds = stochastic_gradient_descent(np.array(CFeature_vector), np.array(CY_Target), iters)\n",
    "theta = history[-1]"
   ]
  },
  {
   "cell_type": "code",
   "execution_count": 41,
   "metadata": {
    "collapsed": false
   },
   "outputs": [
    {
     "data": {
      "text/plain": [
       "SGDClassifier(alpha=0.0001, average=False, class_weight=None, epsilon=0.1,\n",
       "       eta0=0.0, fit_intercept=True, l1_ratio=0.15,\n",
       "       learning_rate='optimal', loss='hinge', n_iter=500, n_jobs=1,\n",
       "       penalty='l2', power_t=0.5, random_state=None, shuffle=True,\n",
       "       verbose=0, warm_start=False)"
      ]
     },
     "execution_count": 41,
     "metadata": {},
     "output_type": "execute_result"
    }
   ],
   "source": [
    "from sklearn.linear_model import SGDClassifier\n",
    "clf = SGDClassifier(loss=\"hinge\", penalty=\"l2\")\n",
    "clf.n_iter = 500\n",
    "clf.fit(np.array(CFeature_vector), np.array(CY_Target))\n"
   ]
  },
  {
   "cell_type": "code",
   "execution_count": 42,
   "metadata": {
    "collapsed": false,
    "scrolled": true
   },
   "outputs": [
    {
     "data": {
      "text/plain": [
       "SGDClassifier(alpha=0.0001, average=False, class_weight=None, epsilon=0.1,\n",
       "       eta0=0.0, fit_intercept=True, l1_ratio=0.15,\n",
       "       learning_rate='optimal', loss='log', n_iter=500, n_jobs=1,\n",
       "       penalty='l2', power_t=0.5, random_state=None, shuffle=True,\n",
       "       verbose=0, warm_start=False)"
      ]
     },
     "execution_count": 42,
     "metadata": {},
     "output_type": "execute_result"
    }
   ],
   "source": [
    "lf = SGDClassifier(loss=\"log\")\n",
    "lf.n_iter = 500\n",
    "lf.fit(np.array(CFeature_vector),  np.array(CY_Target))"
   ]
  },
  {
   "cell_type": "code",
   "execution_count": 43,
   "metadata": {
    "collapsed": false
   },
   "outputs": [
    {
     "data": {
      "text/plain": [
       "0.0"
      ]
     },
     "execution_count": 43,
     "metadata": {},
     "output_type": "execute_result"
    }
   ],
   "source": [
    "lf.eta0"
   ]
  },
  {
   "cell_type": "code",
   "execution_count": 44,
   "metadata": {
    "collapsed": false
   },
   "outputs": [],
   "source": [
    "def hypothesis(dataset, theta):\n",
    "    s = np.dot(dataset,theta)\n",
    "    h = 1.0/(1.0 + np.exp(-s))\n",
    "    return h"
   ]
  },
  {
   "cell_type": "code",
   "execution_count": 45,
   "metadata": {
    "collapsed": false
   },
   "outputs": [
    {
     "name": "stdout",
     "output_type": "stream",
     "text": [
      "0.00716791924915\n"
     ]
    }
   ],
   "source": [
    "print hypothesis(np.array(Feature_vector[2]), lf.coef_[2])\n"
   ]
  },
  {
   "cell_type": "code",
   "execution_count": 46,
   "metadata": {
    "collapsed": false
   },
   "outputs": [],
   "source": [
    "List_classes = list(lf.classes_)\n",
    "#print '###############################################################'\n",
    "#print \"We analyse here:\"\n",
    "#for i in range(len(CFeature_vector)):\n",
    "#    Generated_Probabilities = lf.predict_proba([CFeature_vector[i]])[0]\n",
    "#    print CFeature_vector[i], \n",
    "#    print Generated_Probabilities[List_classes.index(Key_Dictionary[CTraining_Target[i]])],\n",
    "#    print CTraining_abrivitions[i], \n",
    "#    print CTraining_Target[i]"
   ]
  },
  {
   "cell_type": "code",
   "execution_count": 47,
   "metadata": {
    "collapsed": false
   },
   "outputs": [],
   "source": [
    "List_probabilities = lf.predict_proba(Feature_vector[0])[0]"
   ]
  },
  {
   "cell_type": "code",
   "execution_count": 48,
   "metadata": {
    "collapsed": false
   },
   "outputs": [
    {
     "name": "stdout",
     "output_type": "stream",
     "text": [
      "298\n"
     ]
    }
   ],
   "source": [
    "class_max_prob = List_classes[List_probabilities.argmax()]\n",
    "print class_max_prob"
   ]
  },
  {
   "cell_type": "code",
   "execution_count": 49,
   "metadata": {
    "collapsed": false
   },
   "outputs": [],
   "source": [
    "#for i in range(len(CFeature_vector)):\n",
    "#    print \"pridicted = \" + str(lf.predict([CFeature_vector[i]])), \"Actual = \" + str(CY_Target[i])"
   ]
  },
  {
   "cell_type": "code",
   "execution_count": 50,
   "metadata": {
    "collapsed": false
   },
   "outputs": [],
   "source": [
    "temp1 = []\n",
    "temp2 = []\n",
    "for i in range(len(CFeature_vector)):\n",
    "    if temp2.count(CY_Target[i])<20:\n",
    "        temp1.append(CFeature_vector[i])\n",
    "        temp2.append(CY_Target[i])\n",
    "X1 = temp1\n",
    "Y1 = temp2\n"
   ]
  },
  {
   "cell_type": "code",
   "execution_count": 51,
   "metadata": {
    "collapsed": false
   },
   "outputs": [
    {
     "data": {
      "text/plain": [
       "SGDClassifier(alpha=0.0001, average=False, class_weight=None, epsilon=0.1,\n",
       "       eta0=0.0, fit_intercept=True, l1_ratio=0.15,\n",
       "       learning_rate='optimal', loss='log', n_iter=100000, n_jobs=1,\n",
       "       penalty='l2', power_t=0.5, random_state=None, shuffle=True,\n",
       "       verbose=0, warm_start=False)"
      ]
     },
     "execution_count": 51,
     "metadata": {},
     "output_type": "execute_result"
    }
   ],
   "source": [
    "lf = SGDClassifier(loss=\"log\")\n",
    "lf.n_iter = 100000\n",
    "#lf.learning_rate = 'invscaling'\n",
    "lf.fit(np.array(X1),  np.array(Y1))"
   ]
  },
  {
   "cell_type": "code",
   "execution_count": 52,
   "metadata": {
    "collapsed": true
   },
   "outputs": [],
   "source": [
    "List_classes = list(lf.classes_)"
   ]
  },
  {
   "cell_type": "code",
   "execution_count": 53,
   "metadata": {
    "collapsed": true
   },
   "outputs": [],
   "source": [
    "Pridicted = []\n",
    "for i in range(len(X1)):\n",
    "    Pridicted.append(lf.predict([X1[i]])[0])"
   ]
  },
  {
   "cell_type": "code",
   "execution_count": 54,
   "metadata": {
    "collapsed": false
   },
   "outputs": [
    {
     "name": "stdout",
     "output_type": "stream",
     "text": [
      "             precision    recall  f1-score   support\n",
      "\n",
      "        ohh       1.00      1.00      1.00        20\n",
      "       afap       1.00      0.95      0.97        20\n",
      "          c       0.43      0.15      0.22        20\n",
      "       babe       0.54      0.35      0.42        20\n",
      "        jus       0.30      0.85      0.44        20\n",
      "        lol       0.20      0.15      0.17        20\n",
      "       ltic       0.33      0.10      0.15        20\n",
      "        lve       0.50      0.15      0.23        20\n",
      "          n       0.50      0.15      0.23        20\n",
      "        omg       0.31      0.20      0.24        20\n",
      "        brb       0.16      0.15      0.15        20\n",
      "       swim       0.50      0.20      0.29        20\n",
      "        idk       0.21      1.00      0.35        20\n",
      "          u       0.80      0.20      0.32        20\n",
      "         ur       0.43      0.50      0.47        20\n",
      "        wat       0.75      0.15      0.25        20\n",
      "       waud       0.00      0.00      0.00        20\n",
      "       wayn       0.35      0.90      0.50        20\n",
      "       wywh       0.00      0.00      0.00        20\n",
      "    xoxozzz       0.50      0.80      0.62        20\n",
      "          k       0.07      0.05      0.06        20\n",
      "\n",
      "avg / total       0.42      0.38      0.34       420\n",
      "\n"
     ]
    },
    {
     "name": "stderr",
     "output_type": "stream",
     "text": [
      "/home/melvin/anaconda/lib/python2.7/site-packages/sklearn/metrics/classification.py:958: UndefinedMetricWarning: Precision and F-score are ill-defined and being set to 0.0 in labels with no predicted samples.\n",
      "  'precision', 'predicted', average, warn_for)\n"
     ]
    }
   ],
   "source": [
    "from sklearn.metrics import classification_report\n",
    "target_names = []\n",
    "for i in List_classes:\n",
    "    pos = CY_Target.index(i)\n",
    "    target_names.append(CTraining_abrivitions[pos]) \n",
    "print(classification_report(Y1, Pridicted, target_names=target_names))"
   ]
  },
  {
   "cell_type": "code",
   "execution_count": 55,
   "metadata": {
    "collapsed": false
   },
   "outputs": [
    {
     "name": "stdout",
     "output_type": "stream",
     "text": [
      "0.337604803608\n",
      "0.380952380952\n",
      "0.337604803608\n"
     ]
    },
    {
     "name": "stderr",
     "output_type": "stream",
     "text": [
      "/home/melvin/anaconda/lib/python2.7/site-packages/sklearn/metrics/classification.py:958: UndefinedMetricWarning: F-score is ill-defined and being set to 0.0 in labels with no predicted samples.\n",
      "  'precision', 'predicted', average, warn_for)\n"
     ]
    }
   ],
   "source": [
    "from sklearn.metrics import f1_score\n",
    "print f1_score(Y1, Pridicted, average='macro')  \n",
    "print f1_score(Y1, Pridicted, average='micro')  \n",
    "print f1_score(Y1, Pridicted, average='weighted')"
   ]
  },
  {
   "cell_type": "code",
   "execution_count": 57,
   "metadata": {
    "collapsed": false
   },
   "outputs": [],
   "source": [
    "from sklearn.metrics import confusion_matrix\n",
    "y_true = []\n",
    "y_pred = []\n",
    "for i in range(len(Pridicted)):\n",
    "    y_true.append(CTraining_abrivitions[CY_Target.index(Y1[i])])\n",
    "    y_pred.append(CTraining_abrivitions[CY_Target.index(Pridicted[i])])"
   ]
  },
  {
   "cell_type": "code",
   "execution_count": 59,
   "metadata": {
    "collapsed": false
   },
   "outputs": [
    {
     "data": {
      "text/plain": [
       "320"
      ]
     },
     "execution_count": 59,
     "metadata": {},
     "output_type": "execute_result"
    }
   ],
   "source": [
    "len(List_classes)\n",
    "len(Y)"
   ]
  },
  {
   "cell_type": "code",
   "execution_count": 60,
   "metadata": {
    "collapsed": true
   },
   "outputs": [],
   "source": [
    "def pad_list(lst):\n",
    "    inner_max_len = max(map(len, lst))\n",
    "    map(lambda x: x.extend([0]*(inner_max_len-len(x))), lst)\n",
    "    return np.array(lst)\n",
    "def apply_to_zeros(lst, dtype=np.int64):\n",
    "    inner_max_len = max(map(len, lst))\n",
    "    result = np.zeros([len(lst), inner_max_len], dtype)\n",
    "    for i, row in enumerate(lst):\n",
    "        for j, val in enumerate(row):\n",
    "            result[i][j] = val\n",
    "    return result"
   ]
  },
  {
   "cell_type": "code",
   "execution_count": 62,
   "metadata": {
    "collapsed": false
   },
   "outputs": [
    {
     "data": {
      "image/png": "[encoded data removed]",
      "text/plain": [
       "<matplotlib.figure.Figure at 0x7ff471ff75d0>"
      ]
     },
     "metadata": {},
     "output_type": "display_data"
    }
   ],
   "source": [
    "import matplotlib.pyplot as plt\n",
    "import numpy as np\n",
    "t = np.array([100.0,1000.0,10000.0,100000.0],dtype=float)\n",
    "\n",
    "# red dashes, blue squares and green triangles\n",
    "#precision = np.array([0.13, 0.31, 0.44, 0.42],dtype=float)\n",
    "#recall = np.array([0.26,0.32,0.39,0.38],dtype=float)\n",
    "#f1_score = np.array([0.14,0.28,0.34,0.34],dtype=float)\n",
    "precision = np.array([0.13, 0.31, 0.44, 0.42],dtype=float)\n",
    "recall = np.array([0.26,0.32,0.39,0.38],dtype=float)\n",
    "f1_score = np.array([0.14,0.28,0.34,0.34],dtype=float)\n",
    "#plt.streamplot(t, precision, 'r--', t, recall, 'bs', t, f1_score, 'g^')\n",
    "plt.xlabel('Number of Iteration')\n",
    "plt.ylabel('Performance Measure')\n",
    "plt.title('Precision, Recall and F1-Score Performance Measure')\n",
    "plt.plot(t, precision,label = 'Precision')\n",
    "plt.plot(t, recall,label = 'Recall')\n",
    "plt.plot(t, f1_score,label = 'F1-Score')\n",
    "plt.legend(loc=\"lower right\")\n",
    "plt.show()"
   ]
  },
  {
   "cell_type": "code",
   "execution_count": null,
   "metadata": {
    "collapsed": true
   },
   "outputs": [],
   "source": []
  }
 ],
 "metadata": {
  "kernelspec": {
   "display_name": "Python 2",
   "language": "python",
   "name": "python2"
  },
  "language_info": {
   "codemirror_mode": {
    "name": "ipython",
    "version": 2
   },
   "file_extension": ".py",
   "mimetype": "text/x-python",
   "name": "python",
   "nbconvert_exporter": "python",
   "pygments_lexer": "ipython2",
   "version": "2.7.11"
  }
 },
 "nbformat": 4,
 "nbformat_minor": 0
}
